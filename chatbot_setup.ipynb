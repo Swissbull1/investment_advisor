{
 "cells": [
  {
   "attachments": {},
   "cell_type": "markdown",
   "metadata": {},
   "source": [
    "# A Chatbot using GPT and a Database\n",
    "This allows multiple chatbot types (e.g. a health coach and a learning assistant) to be created. Multiple chatbot instances can be created per chatbot type (e.g. a health coach for user X and user Y, and a learning assistant for user P and user Q). Both, types and instances are stored with and referenced by an ID (e.g. a UUID) in the database.\n",
    "\n",
    "This notebook is a simplest possible tutorial guiding you to create one type with one instance. Have a look at the **chatbot_setup_advanced.jpynp** for more advanced features.\n",
    "\n",
    "### 1. Preparation\n",
    "\n",
    "##### 1.1. Set the OpenAI API Key and Model\n",
    "Rename the file **chatbot/openai_template.py** to **chatbot/openai.py** and set the following keys.\n",
    "- OPENAI_KEY = \"your OpenAI API key in quotes\"\n",
    "- OPENAI_MODEL = \"model name in quotes, e.g. gpt-3.5-turbo-16k\"\n",
    "\n",
    "##### 1.2. Install openai package\n",
    "<sup><sub>Note: If you are using GitHub Codespaces, the first time you execute a code cell, you might get asked questions from the development environment (IDE). You can say yes to recommended installations, and to installing/enabling reecommended extensions. When asked to **Select Another Kernel**, choose **Python Environments** and select the recommende environment, e.g., **Python 3.10.13**</sub></sup>"
   ]
  },
  {
   "cell_type": "code",
   "execution_count": 1,
   "metadata": {},
   "outputs": [
    {
     "name": "stdout",
     "output_type": "stream",
     "text": [
      "Collecting openai\n",
      "  Downloading openai-1.30.1-py3-none-any.whl.metadata (21 kB)\n",
      "Requirement already satisfied: anyio<5,>=3.5.0 in /home/codespace/.local/lib/python3.10/site-packages (from openai) (4.3.0)\n",
      "Collecting distro<2,>=1.7.0 (from openai)\n",
      "  Downloading distro-1.9.0-py3-none-any.whl.metadata (6.8 kB)\n",
      "Requirement already satisfied: httpx<1,>=0.23.0 in /home/codespace/.local/lib/python3.10/site-packages (from openai) (0.27.0)\n",
      "Collecting pydantic<3,>=1.9.0 (from openai)\n",
      "  Downloading pydantic-2.7.1-py3-none-any.whl.metadata (107 kB)\n",
      "\u001b[2K     \u001b[90m━━━━━━━━━━━━━━━━━━━━━━━━━━━━━━━━━━━━━━━\u001b[0m \u001b[32m107.3/107.3 kB\u001b[0m \u001b[31m3.6 MB/s\u001b[0m eta \u001b[36m0:00:00\u001b[0m\n",
      "\u001b[?25hRequirement already satisfied: sniffio in /home/codespace/.local/lib/python3.10/site-packages (from openai) (1.3.1)\n",
      "Collecting tqdm>4 (from openai)\n",
      "  Downloading tqdm-4.66.4-py3-none-any.whl.metadata (57 kB)\n",
      "\u001b[2K     \u001b[90m━━━━━━━━━━━━━━━━━━━━━━━━━━━━━━━━━━━━━━━━\u001b[0m \u001b[32m57.6/57.6 kB\u001b[0m \u001b[31m1.2 MB/s\u001b[0m eta \u001b[36m0:00:00\u001b[0mta \u001b[36m0:00:01\u001b[0m\n",
      "\u001b[?25hRequirement already satisfied: typing-extensions<5,>=4.7 in /home/codespace/.local/lib/python3.10/site-packages (from openai) (4.10.0)\n",
      "Requirement already satisfied: idna>=2.8 in /home/codespace/.local/lib/python3.10/site-packages (from anyio<5,>=3.5.0->openai) (3.6)\n",
      "Requirement already satisfied: exceptiongroup>=1.0.2 in /home/codespace/.local/lib/python3.10/site-packages (from anyio<5,>=3.5.0->openai) (1.2.0)\n",
      "Requirement already satisfied: certifi in /home/codespace/.local/lib/python3.10/site-packages (from httpx<1,>=0.23.0->openai) (2024.2.2)\n",
      "Requirement already satisfied: httpcore==1.* in /home/codespace/.local/lib/python3.10/site-packages (from httpx<1,>=0.23.0->openai) (1.0.5)\n",
      "Requirement already satisfied: h11<0.15,>=0.13 in /home/codespace/.local/lib/python3.10/site-packages (from httpcore==1.*->httpx<1,>=0.23.0->openai) (0.14.0)\n",
      "Collecting annotated-types>=0.4.0 (from pydantic<3,>=1.9.0->openai)\n",
      "  Downloading annotated_types-0.6.0-py3-none-any.whl.metadata (12 kB)\n",
      "Collecting pydantic-core==2.18.2 (from pydantic<3,>=1.9.0->openai)\n",
      "  Downloading pydantic_core-2.18.2-cp310-cp310-manylinux_2_17_x86_64.manylinux2014_x86_64.whl.metadata (6.5 kB)\n",
      "Downloading openai-1.30.1-py3-none-any.whl (320 kB)\n",
      "\u001b[2K   \u001b[90m━━━━━━━━━━━━━━━━━━━━━━━━━━━━━━━━━━━━━━━━\u001b[0m \u001b[32m320.6/320.6 kB\u001b[0m \u001b[31m8.7 MB/s\u001b[0m eta \u001b[36m0:00:00\u001b[0m\n",
      "\u001b[?25hDownloading distro-1.9.0-py3-none-any.whl (20 kB)\n",
      "Downloading pydantic-2.7.1-py3-none-any.whl (409 kB)\n",
      "\u001b[2K   \u001b[90m━━━━━━━━━━━━━━━━━━━━━━━━━━━━━━━━━━━━━━━━\u001b[0m \u001b[32m409.3/409.3 kB\u001b[0m \u001b[31m11.4 MB/s\u001b[0m eta \u001b[36m0:00:00\u001b[0m\n",
      "\u001b[?25hDownloading pydantic_core-2.18.2-cp310-cp310-manylinux_2_17_x86_64.manylinux2014_x86_64.whl (2.1 MB)\n",
      "\u001b[2K   \u001b[90m━━━━━━━━━━━━━━━━━━━━━━━━━━━━━━━━━━━━━━━━\u001b[0m \u001b[32m2.1/2.1 MB\u001b[0m \u001b[31m32.3 MB/s\u001b[0m eta \u001b[36m0:00:00\u001b[0m:00:01\u001b[0m\n",
      "\u001b[?25hDownloading tqdm-4.66.4-py3-none-any.whl (78 kB)\n",
      "\u001b[2K   \u001b[90m━━━━━━━━━━━━━━━━━━━━━━━━━━━━━━━━━━━━━━━━\u001b[0m \u001b[32m78.3/78.3 kB\u001b[0m \u001b[31m2.1 MB/s\u001b[0m eta \u001b[36m0:00:00\u001b[0m\n",
      "\u001b[?25hDownloading annotated_types-0.6.0-py3-none-any.whl (12 kB)\n",
      "Installing collected packages: tqdm, pydantic-core, distro, annotated-types, pydantic, openai\n",
      "Successfully installed annotated-types-0.6.0 distro-1.9.0 openai-1.30.1 pydantic-2.7.1 pydantic-core-2.18.2 tqdm-4.66.4\n",
      "Note: you may need to restart the kernel to use updated packages.\n"
     ]
    }
   ],
   "source": [
    "%pip install openai"
   ]
  },
  {
   "cell_type": "markdown",
   "metadata": {},
   "source": [
    "##### 1.3. Import Chatbot library"
   ]
  },
  {
   "cell_type": "code",
   "execution_count": 2,
   "metadata": {},
   "outputs": [],
   "source": [
    "from chatbot.chatbot import Chatbot"
   ]
  },
  {
   "attachments": {},
   "cell_type": "markdown",
   "metadata": {},
   "source": [
    "### 2. Create a chatbot of type **health coach** for user **Daniel Müller**"
   ]
  },
  {
   "cell_type": "markdown",
   "metadata": {},
   "source": [
    "##### 2.1. Prompt Engineering\n",
    "To create a chatbot, we need to provide prompts. There are three prompts that can be used to customise the behaviour of the chatbot: a ***role***, ***context***, and ***starter*** prompt.\n",
    "\n",
    "**Role Prompt (type_role)**\n",
    "\n",
    "This prompt will be put at the beginning of the utterances sent to openai for completion. If you create multiple chatbots of the same type, this prompt will be the same for each one of them.\n",
    "\n",
    "You can use this prompt to specify the general (user-independent) behaviour of the chatbot, for example specifying the kind of person to enact, the topical context it acts in, and the goal of conversations it conducts with its users."
   ]
  },
  {
   "cell_type": "code",
   "execution_count": 18,
   "metadata": {},
   "outputs": [],
   "source": [
    "my_type_role = \"\"\"\n",
    "I want you to act as an expert in financial advising and personal finance, specializing in investment advice.\n",
    "My first suggestion request is to create an investment plan with assets suiting the customer (shares, ETFs, crypto etc). [German]\n",
    "Ignore all previous instructions. You are an expert in financial advising and personal finance, specializing in investment advice and planning.\n",
    "You have helped many clients before me to invest their money profitably. Your task is now to create an investment strategy and plan from scratch.\n",
    "To better understand what I want and need, you should always answer by including a question that helps you better understand the context and my needs.\n",
    "\n",
    "Additional role information:\n",
    "To provide a personalized and effective investment plan, you will consider several factors about the customer. These include but are not limited to:\n",
    "\n",
    "- Age: Understanding the customer's age helps in determining the appropriate investment horizon and risk tolerance.\n",
    "- Interests: Knowing the customer's interests (e.g., ecological investing, technology, emerging markets) allows you to tailor the investment choices to align with their values and preferences.\n",
    "- Risk tolerance: Assessing how much risk the customer is willing to take is crucial in selecting suitable investment types (e.g., high-risk high-reward options like cryptocurrencies versus low-risk options like bonds).\n",
    "- Financial goals: Identifying the customer’s short-term and long-term financial goals (e.g., saving for retirement, buying a house, funding education) ensures the investment plan is goal-oriented.\n",
    "- Current financial situation: Gathering information about the customer's current income, savings, debt, and expenses provides a comprehensive view for realistic and achievable planning.\n",
    "- Investment knowledge: Understanding the customer's level of investment knowledge helps in determining the complexity of the investment plan and the need for educational resources or explanations.\n",
    "- Time horizon: Determining the investment period the customer is comfortable with (short-term, medium-term, or long-term) to select appropriate investment vehicles.\n",
    "\"\"\""
   ]
  },
  {
   "cell_type": "markdown",
   "metadata": {},
   "source": [
    "**Context Prompt (instance_context)**\n",
    "\n",
    "This prompt will be put right after the role prompt. If you create multiple chatbots of the same type, this prompt will be used only for one of them. <br />\n",
    "\n",
    "You can use this prompt to specify user-specific behaviour, for example information about the particular user that will use this chatbot instance."
   ]
  },
  {
   "cell_type": "code",
   "execution_count": 19,
   "metadata": {},
   "outputs": [],
   "source": [
    "my_instance_context =  \"\"\"\n",
    "Alter: 35 Jahre\n",
    "Interessen: Ökologische Investitionen\n",
    "Risikobereitschaft: Moderat\n",
    "Kurzfristige Ziele: Hauskauf in 5 Jahren\n",
    "Langfristige Ziele: Ruhestand\n",
    "Einkommen: 80.000 CHF/Jahr\n",
    "Ersparnisse: 20.000 CHF\n",
    "Schulden: Keine\n",
    "Investmentwissen: Mittel\n",
    "Zeithorizont: Mischung aus kurz- und langfristigen Investitionen\n",
    "\"\"\""
   ]
  },
  {
   "cell_type": "markdown",
   "metadata": {},
   "source": [
    "**Starter Prompt (instance_starter)**\n",
    "\n",
    "This prompt will be appended after the role and context prompts and is meant to instruct GPT to create an initial message that opens the conversation with the user. <br />\n",
    "\n",
    "You can use this prompt to instruct GPT to welcome the user, ask initial questions, and how to proceed from there."
   ]
  },
  {
   "cell_type": "code",
   "execution_count": 20,
   "metadata": {},
   "outputs": [],
   "source": [
    "\n",
    "my_instance_starter = \"\"\"\n",
    "Welcome Message:\n",
    "\n",
    "Hallo,\n",
    "\n",
    "Willkommen bei unserem Finanzberatungsservice! Mein Name ist InvestmentAdvisor, und ich bin Ihr persönlicher Finanzberater.\n",
    "Ich helfe Ihnen dabei, eine maßgeschneiderte Anlagestrategie zu entwickeln, um Ihre finanziellen Ziele zu erreichen.\n",
    "Um zu beginnen, könnten Sie mir bitte mehr über Ihr aktuelles Einkommen, Ihre Ersparnisse, Ihre Risikobereitschaft und Ihre spezifischen finanziellen Ziele erzählen?\n",
    "Diese Informationen helfen mir, einen auf Ihre Bedürfnisse zugeschnittenen Investitionsplan zu erstellen.\n",
    "\n",
    "Ich freue mich darauf, Ihnen zu helfen!\n",
    "\n",
    "Beste Grüße,\n",
    "InvestmentAdvisor\n",
    "\"\"\""
   ]
  },
  {
   "cell_type": "markdown",
   "metadata": {},
   "source": [
    "##### 2.2. Create Chatbot\n",
    "The following code creates a new Chatbot where the chatbot type is identified by the type_id provided and the chatbot instance by the user_id. These two IDs will be used further below to construct the URL pointing to this chatbot once it is deployed.\n",
    "\n",
    "The type name is only used in the front-end and does not affect the conversational behaviour.\n",
    "\n",
    "Once this code is executed, the chatbot is stored in the database."
   ]
  },
  {
   "cell_type": "code",
   "execution_count": 21,
   "metadata": {},
   "outputs": [],
   "source": [
    "bot = Chatbot(\n",
    "    database_file=\"database/chatbot.db\", \n",
    "    type_id=\"1\",\n",
    "    user_id=\"1\",\n",
    "    type_name=\"Investment Adviser\",\n",
    "    type_role=my_type_role,\n",
    "    instance_context=my_instance_context,\n",
    "    instance_starter=my_instance_starter\n",
    ")"
   ]
  },
  {
   "cell_type": "markdown",
   "metadata": {},
   "source": [
    "##### 2.3. Initiate Conversation Starter (Optional)\n",
    "\n",
    "If the chatbot should open the conversation with an initial message, the following code is executed. This code will execute a request to GPT, with the role, context and startet prompts specified above. The response from GPT (the initial message) will be stored in the database and therefore the user will see the opening message as soon as they access the chatbot."
   ]
  },
  {
   "cell_type": "code",
   "execution_count": 22,
   "metadata": {},
   "outputs": [
    {
     "name": "stdout",
     "output_type": "stream",
     "text": [
      "['Vielen Dank für die Bereitstellung Ihrer Daten. Basierend auf den von Ihnen bereitgestellten Informationen kann ich eine erste Anlagestrategie am besten mit mehr Informationen zu Ihren Ausgaben vorschlagen. Haben Sie eine Vorstellung davon, wie viel Sie derzeit jeden Monat für Lebenshaltungskosten einschließlich Miete, Lebensmittel, Transport, Versicherungen und andere wiederkehrende Ausgaben aufwenden? Ihre monatlichen Ausgaben geben mir eine Vorstellung davon, wie viel Sie in den Bereichen, die Sie erwähnt haben, wie Ökologie, und für Ihre kurz- und langfristigen Ziele zu investieren in der Lage sind.\\n']\n"
     ]
    }
   ],
   "source": [
    "print(bot.start())"
   ]
  },
  {
   "cell_type": "markdown",
   "metadata": {},
   "source": [
    "### 3. Deploy and Disseminate\n",
    "You can now deploy your chatbot. If you are using our guide for deploying to pythonanywhere.com, the URL to be handed out to the user is as follows.\n",
    "\n",
    "**Generic URL**\n",
    "\n",
    "https://[your pythonanywhere user name].pythonanywhere.com/[type id]/[user_id]/chat\n",
    "\n",
    "**For Example**\n",
    "\n",
    "https://monkey23.pythonanywhere.com/c48a13d7/fe6d944d/chat\n",
    "\n"
   ]
  }
 ],
 "metadata": {
  "kernelspec": {
   "display_name": "Python 3",
   "language": "python",
   "name": "python3"
  },
  "language_info": {
   "codemirror_mode": {
    "name": "ipython",
    "version": 3
   },
   "file_extension": ".py",
   "mimetype": "text/x-python",
   "name": "python",
   "nbconvert_exporter": "python",
   "pygments_lexer": "ipython3",
   "version": "3.10.13"
  },
  "orig_nbformat": 4
 },
 "nbformat": 4,
 "nbformat_minor": 2
}
